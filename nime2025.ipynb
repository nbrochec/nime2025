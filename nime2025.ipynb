{
 "cells": [
  {
   "cell_type": "code",
   "execution_count": null,
   "id": "6446e148",
   "metadata": {},
   "outputs": [],
   "source": [
    "# Install dependencies for the project\n",
    "!pip install -r requirements.txt"
   ]
  },
  {
   "cell_type": "code",
   "execution_count": null,
   "id": "5cba143a",
   "metadata": {},
   "outputs": [],
   "source": [
    "import os\n",
    "\n",
    "# Make sure the path points to the correct directory\n",
    "raw_data_dir = os.path.join(os.getcwd(), 'data/raw') # /data/raw/EG-IPT/pickups\n",
    "csv_dir = os.path.join(os.getcwd(), 'data/dataset')\n",
    "\n",
    "# Setup A uses only DI data\n",
    "train_dir = os.path.join(raw_data_dir, 'HB-neck/DI') \n",
    "val_dir = os.path.join(raw_data_dir, 'HB-bridge/DI')\n",
    "test_dir = os.path.join(raw_data_dir, 'HB-couple/DI')\n",
    "\n",
    "# Name your run\n",
    "name = 'run01'\n",
    "csv_path = os.path.join(csv_dir, f'{name}_dataset_split.csv')\n",
    "print(csv_path)"
   ]
  },
  {
   "cell_type": "code",
   "execution_count": null,
   "id": "11c9a91c",
   "metadata": {},
   "outputs": [],
   "source": [
    "from utils import DatasetSplitter, DatasetValidator\n",
    "\n",
    "DatasetSplitter.split_train_validation(csv_path, train_dir, test_dir, val_dir, name) # Add val_ratio=0.2, val_split='test' for setup C\n",
    "DatasetValidator.validate_labels(csv_path)"
   ]
  },
  {
   "cell_type": "code",
   "execution_count": null,
   "id": "47573ee1",
   "metadata": {},
   "outputs": [],
   "source": [
    "import torch\n",
    "\n",
    "device = torch.device(\"cuda\" if torch.cuda.is_available() else \"cpu\")\n",
    "print(f\"Using device: {device}\")"
   ]
  },
  {
   "cell_type": "code",
   "execution_count": null,
   "id": "acf2b101",
   "metadata": {},
   "outputs": [],
   "source": [
    "from utils import PrepareData\n",
    "\n",
    "target_sr = 8000\n",
    "batch_size = 32\n",
    "augment = False # Set to True for offline data augmentation\n",
    "dataPreparator = PrepareData(csv_path, device, target_sr, batch_size, augment)\n",
    "train_loader, test_loader, val_loader, num_classes, classnames, segment_length = dataPreparator.prepare()"
   ]
  },
  {
   "cell_type": "code",
   "execution_count": null,
   "id": "f27f3c0b",
   "metadata": {},
   "outputs": [],
   "source": [
    "from utils import PrepareModel\n",
    "from augments import AudioOnlineTransforms\n",
    "from torch import nn\n",
    "from torch.optim import Adam\n",
    "import numpy as np\n",
    "\n",
    "modelPreparator = PrepareModel(device, num_classes, segment_length, target_sr, classnames)\n",
    "model = modelPreparator.prepare()\n",
    "\n",
    "loss_fn = nn.CrossEntropyLoss() \n",
    "optimizer = Adam(model.parameters(), lr=0.001, weight_decay=1e-5)\n",
    "\n",
    "# Online data augmentation is applied across all setups\n",
    "augmenter = AudioOnlineTransforms(target_sr, segment_length)"
   ]
  },
  {
   "cell_type": "code",
   "execution_count": null,
   "id": "0d36a473",
   "metadata": {},
   "outputs": [],
   "source": [
    "from tqdm import tqdm\n",
    "\n",
    "max_val_loss = np.inf\n",
    "max_epochs = 100\n",
    "\n",
    "for epoch in range(max_epochs):\n",
    "    # -- TRAINING --\n",
    "    model.train()\n",
    "    train_loss = 0.0\n",
    "    for batch in tqdm(train_loader, desc=f\"Epoch {epoch+1}/{max_epochs}\", leave=False):\n",
    "        inputs, labels = batch\n",
    "        inputs, labels = inputs.to(device), labels.to(device)\n",
    "        inputs = augmenter(inputs)\n",
    "\n",
    "        optimizer.zero_grad()\n",
    "        outputs = model(inputs)\n",
    "        loss = loss_fn(outputs, labels)\n",
    "        loss.backward()\n",
    "        optimizer.step()\n",
    "\n",
    "        train_loss += loss.item()\n",
    "\n",
    "    train_loss /= len(train_loader)\n",
    "\n",
    "    # -- VALIDATION --\n",
    "    model.eval()\n",
    "    val_loss = 0.0\n",
    "    with torch.no_grad():\n",
    "        for batch in val_loader:\n",
    "            inputs, labels = batch\n",
    "            inputs, labels = inputs.to(device), labels.to(device)\n",
    "            outputs = model(inputs)\n",
    "            loss = loss_fn(outputs, labels)\n",
    "            val_loss += loss.item()\n",
    "\n",
    "    val_loss /= len(val_loader)\n",
    "\n",
    "    # -- LOGGING --\n",
    "    tqdm.write(f\"Epoch {epoch+1}/{max_epochs} | Train Loss: {train_loss:.4f} | Val Loss: {val_loss:.4f}\")\n",
    "\n",
    "    # -- SAVE BEST --\n",
    "    if val_loss < max_val_loss:\n",
    "        max_val_loss = val_loss\n",
    "        torch.save(model.state_dict(), f\"runs/{name}_best_model.pth\")"
   ]
  },
  {
   "cell_type": "code",
   "execution_count": null,
   "id": "4a57f58f",
   "metadata": {},
   "outputs": [],
   "source": [
    "model.load_state_dict(torch.load(f\"runs/{name}_best_model.pth\"))\n",
    "model.eval()"
   ]
  },
  {
   "cell_type": "code",
   "execution_count": null,
   "id": "dd8ddd6c",
   "metadata": {},
   "outputs": [],
   "source": [
    "from sklearn.metrics import accuracy_score, f1_score\n",
    "\n",
    "all_preds = []\n",
    "all_labels = []\n",
    "\n",
    "with torch.no_grad():\n",
    "    for batch in test_loader:\n",
    "        inputs, labels = batch\n",
    "        inputs, labels = inputs.to(device), labels.to(device)\n",
    "\n",
    "        outputs = model(inputs)\n",
    "        preds = outputs.argmax(dim=1)\n",
    "\n",
    "        all_preds.extend(preds.cpu().numpy())\n",
    "        all_labels.extend(labels.cpu().numpy())\n",
    "\n",
    "acc = accuracy_score(all_labels, all_preds)\n",
    "f1 = f1_score(all_labels, all_preds, average='macro')\n",
    "\n",
    "print(f\"Accuracy: {acc:.4f}\")\n",
    "print(f\"Macro F1-score: {f1:.4f}\")"
   ]
  },
  {
   "cell_type": "code",
   "execution_count": null,
   "id": "cb3033ef",
   "metadata": {},
   "outputs": [],
   "source": [
    "from sklearn.metrics import confusion_matrix\n",
    "import matplotlib.pyplot as plt\n",
    "import numpy as np\n",
    "\n",
    "cm = confusion_matrix(all_labels, all_preds)\n",
    "\n",
    "cm_normalized = cm.astype('float') / cm.sum(axis=1)[:, np.newaxis]\n",
    "\n",
    "fig, ax = plt.subplots(figsize=(10, 8))\n",
    "im = ax.imshow(cm_normalized, cmap='Blues')\n",
    "\n",
    "ax.set_xlabel(\"Predicted\")\n",
    "ax.set_ylabel(\"True\")\n",
    "\n",
    "ax.set_xticks(np.arange(len(classnames)))\n",
    "ax.set_yticks(np.arange(len(classnames)))\n",
    "ax.set_xticklabels(classnames)\n",
    "ax.set_yticklabels(classnames)\n",
    "plt.setp(ax.get_xticklabels(), rotation=45, ha=\"right\", rotation_mode=\"anchor\")\n",
    "\n",
    "for i in range(cm.shape[0]):\n",
    "    for j in range(cm.shape[1]):\n",
    "        text = f\"{cm_normalized[i, j]*100:.1f}\"\n",
    "        ax.text(j, i, text, ha=\"center\", va=\"center\", color=\"black\")\n",
    "\n",
    "fig.colorbar(im)\n",
    "plt.tight_layout()\n",
    "plt.show()"
   ]
  },
  {
   "cell_type": "code",
   "execution_count": null,
   "id": "2849e380",
   "metadata": {},
   "outputs": [],
   "source": [
    "model = model.to('cpu')\n",
    "scripted_model = torch.jit.script(model)\n",
    "scripted_model.save(f'runs/{name}_model.ts')\n",
    "print(f'TorchScript file has been exported to the {os.getcwd()}/runs directory.')"
   ]
  }
 ],
 "metadata": {
  "kernelspec": {
   "display_name": "Python 3",
   "language": "python",
   "name": "python3"
  },
  "language_info": {
   "codemirror_mode": {
    "name": "ipython",
    "version": 3
   },
   "file_extension": ".py",
   "mimetype": "text/x-python",
   "name": "python",
   "nbconvert_exporter": "python",
   "pygments_lexer": "ipython3",
   "version": "3.11.11"
  }
 },
 "nbformat": 4,
 "nbformat_minor": 5
}
